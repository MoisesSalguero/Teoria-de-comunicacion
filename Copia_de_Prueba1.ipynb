{
  "nbformat": 4,
  "nbformat_minor": 0,
  "metadata": {
    "colab": {
      "provenance": []
    },
    "kernelspec": {
      "name": "python3",
      "display_name": "Python 3"
    },
    "language_info": {
      "name": "python"
    }
  },
  "cells": [
    {
      "cell_type": "markdown",
      "source": [
        "## Importación de librerías"
      ],
      "metadata": {
        "id": "3I1mJcD_bY9q"
      }
    },
    {
      "cell_type": "code",
      "source": [
        "import math\n",
        "import cmath\n",
        "import matplotlib\n",
        "import numpy as np\n",
        "import matplotlib.pyplot as plt\n",
        "from sympy import li\n",
        "from scipy.fft import fft, fftfreq, fftshift\n"
      ],
      "metadata": {
        "id": "ARjwEKDRbYUQ"
      },
      "execution_count": null,
      "outputs": []
    },
    {
      "cell_type": "markdown",
      "source": [
        "## Datos de entrada"
      ],
      "metadata": {
        "id": "S2W1UUDKW3WB"
      }
    },
    {
      "cell_type": "code",
      "source": [
        "SF = \"7\"#@param [7,8,9,10,11,12]\n",
        "Ancho_de_banda = 1000#@param {type : \"number\"}\n",
        "Frecuencia_muestreo = 1000#@param {type : \"number\"}\n",
        "Simbolo_representado = 40#@param {type : \"number\"}\n",
        "SignalNoiseRadio =  -10 #@param {type : \"number\"}\n",
        "numero_ciclos =  500 #@param {type : \"number\"}\n",
        "\n",
        "SF = int(SF)\n",
        "wb = Ancho_de_banda\n",
        "fs = Frecuencia_muestreo\n",
        "s = Simbolo_representado\n",
        "SNR = SignalNoiseRadio"
      ],
      "metadata": {
        "id": "VHbN6nh7W6G9",
        "cellView": "form"
      },
      "execution_count": null,
      "outputs": []
    },
    {
      "cell_type": "markdown",
      "source": [
        "## Generación del símbolo "
      ],
      "metadata": {
        "id": "LMJOA_boYkRO"
      }
    },
    {
      "cell_type": "code",
      "source": [
        "var1 = 2**SF\n",
        "num_samples = int((var1)*(fs/wb))\n",
        "k = s\n",
        "simbolo_real = np.linspace(1, num_samples,num_samples)\n",
        "simbolo_real = np.asarray(simbolo_real, dtype=int)\n",
        "simbolo_lora = np.zeros(num_samples, dtype=complex)\n",
        "i = 0\n",
        "for i in range (0, num_samples): \n",
        "  if (k>= var1):\n",
        "    k = k-var1\n",
        "  k = k+1\n",
        "  simb = (complex(1/(math.sqrt(var1)))*cmath.exp(1j*2*math.pi*k*(k/(2*var1))))\n",
        "  simbolo_lora[i] = simb\n",
        "  \n"
      ],
      "metadata": {
        "id": "Ae1ymFcnXQAx"
      },
      "execution_count": null,
      "outputs": []
    },
    {
      "cell_type": "markdown",
      "source": [
        "## Comparación de datos, localización de signo y obtención del error"
      ],
      "metadata": {
        "id": "-ZFAEdVrm4o3"
      }
    },
    {
      "cell_type": "code",
      "source": [
        "aciertos =np.zeros(numero_ciclos)\n",
        "for i in range(0, numero_ciclos): \n",
        "\n",
        "  # añadir ruido\n",
        "\n",
        "  # calculo de potencia de la señal y conversion a decibelios\n",
        "  prom_watts = np.mean(simbolo_lora)\n",
        "  prom_db = 10 * np.log10(prom_watts)\n",
        "  # Calculo de ruido en watts\n",
        "  prom_ruido_db = prom_db + SNR\n",
        "  noise_avg_watts = 10 ** (prom_ruido_db / 10)\n",
        "  # Generate an sample of white noise\n",
        "  mean_noise = 0\n",
        "\n",
        "  noise = np.random.normal(0, 400*noise_avg_watts, len(simbolo_lora))\n",
        "  #noise = np.random.multivariate_normal([0,0], [[noise_avg_watts.real/10, 0],[0,noise_avg_watts.imag/10]] , size=len(simbolo_lora)).view(np.complex128)                                                                                \n",
        "  # Noise up the original signal\n",
        "  simb_ruidoso = simbolo_lora + noise\n",
        "\n",
        "  # generando Base Down Chirp \n",
        "  base_down_chirp = np.zeros(num_samples, dtype=complex)\n",
        "  k = 0\n",
        "  for j in range (0, num_samples): \n",
        "    if (k>= var1):\n",
        "      k = k-var1\n",
        "    k = k+1\n",
        "    simb = (complex(1/(math.sqrt(var1)))*cmath.exp(-1j*2*math.pi*k*(k/(2*var1))))\n",
        "    base_down_chirp[j] = simb\n",
        "\n",
        "  dechirped = simb_ruidoso*base_down_chirp #dechirping the signal\n",
        "  #Fast fourier Transform\n",
        "  correlation = abs(fft(dechirped))**2\n",
        "\n",
        "  # encontrando el valor máximo\n",
        "  aciertos[i] = correlation.argmax()\n",
        "\n",
        "# plot the complex numbers\n",
        "plt.plot(simbolo_real, correlation,'-b')\n",
        "plt.ylabel('Correlación')\n",
        "plt.xlabel('Signo')\n",
        "plt.show()\n",
        "\n",
        "plt.hist(aciertos)\n",
        "plt.ylabel('Cantidad ciclos')\n",
        "plt.xlabel('Signo')\n",
        "plt.show()\n",
        "\n",
        "error = sum(aciertos!=Simbolo_representado)/numero_ciclos\n",
        "print(\"Error: \" + str(error))"
      ],
      "metadata": {
        "colab": {
          "base_uri": "https://localhost:8080/",
          "height": 593
        },
        "id": "E435Z91YbWrr",
        "outputId": "4c618ff8-1b5b-47ea-ef55-48e898ce6d1f"
      },
      "execution_count": null,
      "outputs": [
        {
          "output_type": "stream",
          "name": "stderr",
          "text": [
            "/usr/local/lib/python3.7/dist-packages/ipykernel_launcher.py:15: ComplexWarning: Casting complex values to real discards the imaginary part\n",
            "  from ipykernel import kernelapp as app\n"
          ]
        },
        {
          "output_type": "display_data",
          "data": {
            "text/plain": [
              "<Figure size 432x288 with 1 Axes>"
            ],
            "image/png": "[encoded data removed]"
          },
          "metadata": {
            "needs_background": "light"
          }
        },
        {
          "output_type": "display_data",
          "data": {
            "text/plain": [
              "<Figure size 432x288 with 1 Axes>"
            ],
            "image/png": "[encoded data removed]"
          },
          "metadata": {
            "needs_background": "light"
          }
        },
        {
          "output_type": "stream",
          "name": "stdout",
          "text": [
            "Error: 0.004\n"
          ]
        }
      ]
    },
    {
      "cell_type": "code",
      "source": [],
      "metadata": {
        "id": "1VCQOstYZgJy"
      },
      "execution_count": null,
      "outputs": []
    }
  ]
}